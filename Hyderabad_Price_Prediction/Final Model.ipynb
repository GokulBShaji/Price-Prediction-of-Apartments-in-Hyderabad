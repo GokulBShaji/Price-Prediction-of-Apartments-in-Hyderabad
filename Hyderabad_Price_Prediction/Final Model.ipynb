{
 "cells": [
  {
   "cell_type": "code",
   "execution_count": 1,
   "id": "7eeaf2ff",
   "metadata": {},
   "outputs": [
    {
     "data": {
      "text/html": [
       "<div>\n",
       "<style scoped>\n",
       "    .dataframe tbody tr th:only-of-type {\n",
       "        vertical-align: middle;\n",
       "    }\n",
       "\n",
       "    .dataframe tbody tr th {\n",
       "        vertical-align: top;\n",
       "    }\n",
       "\n",
       "    .dataframe thead th {\n",
       "        text-align: right;\n",
       "    }\n",
       "</style>\n",
       "<table border=\"1\" class=\"dataframe\">\n",
       "  <thead>\n",
       "    <tr style=\"text-align: right;\">\n",
       "      <th></th>\n",
       "      <th>Price</th>\n",
       "      <th>Area</th>\n",
       "      <th>Type_Score</th>\n",
       "      <th>Rail_Score</th>\n",
       "      <th>Hospital_Score</th>\n",
       "      <th>24Hrs Water Supply</th>\n",
       "      <th>24Hrs Backup Electricity</th>\n",
       "      <th>Lift</th>\n",
       "      <th>Gated Community</th>\n",
       "      <th>Club House</th>\n",
       "      <th>Parking</th>\n",
       "    </tr>\n",
       "  </thead>\n",
       "  <tbody>\n",
       "    <tr>\n",
       "      <th>0</th>\n",
       "      <td>36.34</td>\n",
       "      <td>790</td>\n",
       "      <td>3.0</td>\n",
       "      <td>0.364190</td>\n",
       "      <td>5.509420</td>\n",
       "      <td>1</td>\n",
       "      <td>0</td>\n",
       "      <td>1</td>\n",
       "      <td>1</td>\n",
       "      <td>0</td>\n",
       "      <td>1</td>\n",
       "    </tr>\n",
       "    <tr>\n",
       "      <th>1</th>\n",
       "      <td>75.00</td>\n",
       "      <td>1500</td>\n",
       "      <td>3.5</td>\n",
       "      <td>0.129975</td>\n",
       "      <td>0.812521</td>\n",
       "      <td>1</td>\n",
       "      <td>1</td>\n",
       "      <td>1</td>\n",
       "      <td>1</td>\n",
       "      <td>0</td>\n",
       "      <td>1</td>\n",
       "    </tr>\n",
       "    <tr>\n",
       "      <th>2</th>\n",
       "      <td>93.80</td>\n",
       "      <td>1340</td>\n",
       "      <td>2.5</td>\n",
       "      <td>0.279784</td>\n",
       "      <td>1.044609</td>\n",
       "      <td>1</td>\n",
       "      <td>1</td>\n",
       "      <td>1</td>\n",
       "      <td>0</td>\n",
       "      <td>0</td>\n",
       "      <td>1</td>\n",
       "    </tr>\n",
       "    <tr>\n",
       "      <th>3</th>\n",
       "      <td>51.17</td>\n",
       "      <td>1190</td>\n",
       "      <td>2.0</td>\n",
       "      <td>0.167251</td>\n",
       "      <td>0.930651</td>\n",
       "      <td>1</td>\n",
       "      <td>1</td>\n",
       "      <td>1</td>\n",
       "      <td>1</td>\n",
       "      <td>0</td>\n",
       "      <td>1</td>\n",
       "    </tr>\n",
       "    <tr>\n",
       "      <th>4</th>\n",
       "      <td>68.00</td>\n",
       "      <td>1125</td>\n",
       "      <td>2.5</td>\n",
       "      <td>0.109995</td>\n",
       "      <td>1.132096</td>\n",
       "      <td>1</td>\n",
       "      <td>1</td>\n",
       "      <td>1</td>\n",
       "      <td>0</td>\n",
       "      <td>1</td>\n",
       "      <td>1</td>\n",
       "    </tr>\n",
       "    <tr>\n",
       "      <th>...</th>\n",
       "      <td>...</td>\n",
       "      <td>...</td>\n",
       "      <td>...</td>\n",
       "      <td>...</td>\n",
       "      <td>...</td>\n",
       "      <td>...</td>\n",
       "      <td>...</td>\n",
       "      <td>...</td>\n",
       "      <td>...</td>\n",
       "      <td>...</td>\n",
       "      <td>...</td>\n",
       "    </tr>\n",
       "    <tr>\n",
       "      <th>2745</th>\n",
       "      <td>144.00</td>\n",
       "      <td>2412</td>\n",
       "      <td>3.0</td>\n",
       "      <td>0.134107</td>\n",
       "      <td>0.625462</td>\n",
       "      <td>1</td>\n",
       "      <td>1</td>\n",
       "      <td>1</td>\n",
       "      <td>1</td>\n",
       "      <td>1</td>\n",
       "      <td>1</td>\n",
       "    </tr>\n",
       "    <tr>\n",
       "      <th>2746</th>\n",
       "      <td>33.46</td>\n",
       "      <td>1287</td>\n",
       "      <td>2.5</td>\n",
       "      <td>1.761997</td>\n",
       "      <td>2.418640</td>\n",
       "      <td>0</td>\n",
       "      <td>1</td>\n",
       "      <td>0</td>\n",
       "      <td>1</td>\n",
       "      <td>0</td>\n",
       "      <td>0</td>\n",
       "    </tr>\n",
       "    <tr>\n",
       "      <th>2747</th>\n",
       "      <td>115.00</td>\n",
       "      <td>1655</td>\n",
       "      <td>3.0</td>\n",
       "      <td>0.127078</td>\n",
       "      <td>0.835416</td>\n",
       "      <td>1</td>\n",
       "      <td>1</td>\n",
       "      <td>1</td>\n",
       "      <td>0</td>\n",
       "      <td>1</td>\n",
       "      <td>1</td>\n",
       "    </tr>\n",
       "    <tr>\n",
       "      <th>2748</th>\n",
       "      <td>124.00</td>\n",
       "      <td>1880</td>\n",
       "      <td>3.0</td>\n",
       "      <td>0.258999</td>\n",
       "      <td>2.076649</td>\n",
       "      <td>1</td>\n",
       "      <td>0</td>\n",
       "      <td>1</td>\n",
       "      <td>1</td>\n",
       "      <td>1</td>\n",
       "      <td>1</td>\n",
       "    </tr>\n",
       "    <tr>\n",
       "      <th>2749</th>\n",
       "      <td>72.94</td>\n",
       "      <td>1504</td>\n",
       "      <td>3.0</td>\n",
       "      <td>0.257277</td>\n",
       "      <td>0.576575</td>\n",
       "      <td>1</td>\n",
       "      <td>1</td>\n",
       "      <td>1</td>\n",
       "      <td>1</td>\n",
       "      <td>0</td>\n",
       "      <td>1</td>\n",
       "    </tr>\n",
       "  </tbody>\n",
       "</table>\n",
       "<p>2750 rows × 11 columns</p>\n",
       "</div>"
      ],
      "text/plain": [
       "       Price  Area  Type_Score  Rail_Score  Hospital_Score  \\\n",
       "0      36.34   790         3.0    0.364190        5.509420   \n",
       "1      75.00  1500         3.5    0.129975        0.812521   \n",
       "2      93.80  1340         2.5    0.279784        1.044609   \n",
       "3      51.17  1190         2.0    0.167251        0.930651   \n",
       "4      68.00  1125         2.5    0.109995        1.132096   \n",
       "...      ...   ...         ...         ...             ...   \n",
       "2745  144.00  2412         3.0    0.134107        0.625462   \n",
       "2746   33.46  1287         2.5    1.761997        2.418640   \n",
       "2747  115.00  1655         3.0    0.127078        0.835416   \n",
       "2748  124.00  1880         3.0    0.258999        2.076649   \n",
       "2749   72.94  1504         3.0    0.257277        0.576575   \n",
       "\n",
       "      24Hrs Water Supply  24Hrs Backup Electricity  Lift  Gated Community  \\\n",
       "0                      1                         0     1                1   \n",
       "1                      1                         1     1                1   \n",
       "2                      1                         1     1                0   \n",
       "3                      1                         1     1                1   \n",
       "4                      1                         1     1                0   \n",
       "...                  ...                       ...   ...              ...   \n",
       "2745                   1                         1     1                1   \n",
       "2746                   0                         1     0                1   \n",
       "2747                   1                         1     1                0   \n",
       "2748                   1                         0     1                1   \n",
       "2749                   1                         1     1                1   \n",
       "\n",
       "      Club House  Parking  \n",
       "0              0        1  \n",
       "1              0        1  \n",
       "2              0        1  \n",
       "3              0        1  \n",
       "4              1        1  \n",
       "...          ...      ...  \n",
       "2745           1        1  \n",
       "2746           0        0  \n",
       "2747           1        1  \n",
       "2748           1        1  \n",
       "2749           0        1  \n",
       "\n",
       "[2750 rows x 11 columns]"
      ]
     },
     "execution_count": 1,
     "metadata": {},
     "output_type": "execute_result"
    }
   ],
   "source": [
    "import pandas as pd\n",
    "df = pd.read_excel('Prediction_Database.xlsx')\n",
    "sf = pd.read_excel('test1.xlsx')\n",
    "df"
   ]
  },
  {
   "cell_type": "code",
   "execution_count": 2,
   "id": "133ac072",
   "metadata": {},
   "outputs": [
    {
     "data": {
      "text/plain": [
       "Price                       0\n",
       "Area                        0\n",
       "Type_Score                  0\n",
       "Rail_Score                  0\n",
       "Hospital_Score              0\n",
       "24Hrs Water Supply          0\n",
       "24Hrs Backup Electricity    0\n",
       "Lift                        0\n",
       "Gated Community             0\n",
       "Club House                  0\n",
       "Parking                     0\n",
       "dtype: int64"
      ]
     },
     "execution_count": 2,
     "metadata": {},
     "output_type": "execute_result"
    }
   ],
   "source": [
    "df.isnull().sum()"
   ]
  },
  {
   "cell_type": "code",
   "execution_count": 3,
   "id": "6503c531",
   "metadata": {},
   "outputs": [
    {
     "data": {
      "text/html": [
       "<div>\n",
       "<style scoped>\n",
       "    .dataframe tbody tr th:only-of-type {\n",
       "        vertical-align: middle;\n",
       "    }\n",
       "\n",
       "    .dataframe tbody tr th {\n",
       "        vertical-align: top;\n",
       "    }\n",
       "\n",
       "    .dataframe thead th {\n",
       "        text-align: right;\n",
       "    }\n",
       "</style>\n",
       "<table border=\"1\" class=\"dataframe\">\n",
       "  <thead>\n",
       "    <tr style=\"text-align: right;\">\n",
       "      <th></th>\n",
       "      <th>Area</th>\n",
       "      <th>Type_Score</th>\n",
       "      <th>Rail_Score</th>\n",
       "      <th>Hospital_Score</th>\n",
       "      <th>24Hrs Water Supply</th>\n",
       "      <th>24Hrs Backup Electricity</th>\n",
       "      <th>Lift</th>\n",
       "      <th>Gated Community</th>\n",
       "      <th>Club House</th>\n",
       "      <th>Parking</th>\n",
       "    </tr>\n",
       "  </thead>\n",
       "  <tbody>\n",
       "    <tr>\n",
       "      <th>0</th>\n",
       "      <td>790</td>\n",
       "      <td>3.0</td>\n",
       "      <td>0.364190</td>\n",
       "      <td>5.509420</td>\n",
       "      <td>1</td>\n",
       "      <td>0</td>\n",
       "      <td>1</td>\n",
       "      <td>1</td>\n",
       "      <td>0</td>\n",
       "      <td>1</td>\n",
       "    </tr>\n",
       "    <tr>\n",
       "      <th>1</th>\n",
       "      <td>1500</td>\n",
       "      <td>3.5</td>\n",
       "      <td>0.129975</td>\n",
       "      <td>0.812521</td>\n",
       "      <td>1</td>\n",
       "      <td>1</td>\n",
       "      <td>1</td>\n",
       "      <td>1</td>\n",
       "      <td>0</td>\n",
       "      <td>1</td>\n",
       "    </tr>\n",
       "    <tr>\n",
       "      <th>2</th>\n",
       "      <td>1340</td>\n",
       "      <td>2.5</td>\n",
       "      <td>0.279784</td>\n",
       "      <td>1.044609</td>\n",
       "      <td>1</td>\n",
       "      <td>1</td>\n",
       "      <td>1</td>\n",
       "      <td>0</td>\n",
       "      <td>0</td>\n",
       "      <td>1</td>\n",
       "    </tr>\n",
       "    <tr>\n",
       "      <th>3</th>\n",
       "      <td>1190</td>\n",
       "      <td>2.0</td>\n",
       "      <td>0.167251</td>\n",
       "      <td>0.930651</td>\n",
       "      <td>1</td>\n",
       "      <td>1</td>\n",
       "      <td>1</td>\n",
       "      <td>1</td>\n",
       "      <td>0</td>\n",
       "      <td>1</td>\n",
       "    </tr>\n",
       "    <tr>\n",
       "      <th>4</th>\n",
       "      <td>1125</td>\n",
       "      <td>2.5</td>\n",
       "      <td>0.109995</td>\n",
       "      <td>1.132096</td>\n",
       "      <td>1</td>\n",
       "      <td>1</td>\n",
       "      <td>1</td>\n",
       "      <td>0</td>\n",
       "      <td>1</td>\n",
       "      <td>1</td>\n",
       "    </tr>\n",
       "    <tr>\n",
       "      <th>...</th>\n",
       "      <td>...</td>\n",
       "      <td>...</td>\n",
       "      <td>...</td>\n",
       "      <td>...</td>\n",
       "      <td>...</td>\n",
       "      <td>...</td>\n",
       "      <td>...</td>\n",
       "      <td>...</td>\n",
       "      <td>...</td>\n",
       "      <td>...</td>\n",
       "    </tr>\n",
       "    <tr>\n",
       "      <th>2745</th>\n",
       "      <td>2412</td>\n",
       "      <td>3.0</td>\n",
       "      <td>0.134107</td>\n",
       "      <td>0.625462</td>\n",
       "      <td>1</td>\n",
       "      <td>1</td>\n",
       "      <td>1</td>\n",
       "      <td>1</td>\n",
       "      <td>1</td>\n",
       "      <td>1</td>\n",
       "    </tr>\n",
       "    <tr>\n",
       "      <th>2746</th>\n",
       "      <td>1287</td>\n",
       "      <td>2.5</td>\n",
       "      <td>1.761997</td>\n",
       "      <td>2.418640</td>\n",
       "      <td>0</td>\n",
       "      <td>1</td>\n",
       "      <td>0</td>\n",
       "      <td>1</td>\n",
       "      <td>0</td>\n",
       "      <td>0</td>\n",
       "    </tr>\n",
       "    <tr>\n",
       "      <th>2747</th>\n",
       "      <td>1655</td>\n",
       "      <td>3.0</td>\n",
       "      <td>0.127078</td>\n",
       "      <td>0.835416</td>\n",
       "      <td>1</td>\n",
       "      <td>1</td>\n",
       "      <td>1</td>\n",
       "      <td>0</td>\n",
       "      <td>1</td>\n",
       "      <td>1</td>\n",
       "    </tr>\n",
       "    <tr>\n",
       "      <th>2748</th>\n",
       "      <td>1880</td>\n",
       "      <td>3.0</td>\n",
       "      <td>0.258999</td>\n",
       "      <td>2.076649</td>\n",
       "      <td>1</td>\n",
       "      <td>0</td>\n",
       "      <td>1</td>\n",
       "      <td>1</td>\n",
       "      <td>1</td>\n",
       "      <td>1</td>\n",
       "    </tr>\n",
       "    <tr>\n",
       "      <th>2749</th>\n",
       "      <td>1504</td>\n",
       "      <td>3.0</td>\n",
       "      <td>0.257277</td>\n",
       "      <td>0.576575</td>\n",
       "      <td>1</td>\n",
       "      <td>1</td>\n",
       "      <td>1</td>\n",
       "      <td>1</td>\n",
       "      <td>0</td>\n",
       "      <td>1</td>\n",
       "    </tr>\n",
       "  </tbody>\n",
       "</table>\n",
       "<p>2750 rows × 10 columns</p>\n",
       "</div>"
      ],
      "text/plain": [
       "      Area  Type_Score  Rail_Score  Hospital_Score  24Hrs Water Supply  \\\n",
       "0      790         3.0    0.364190        5.509420                   1   \n",
       "1     1500         3.5    0.129975        0.812521                   1   \n",
       "2     1340         2.5    0.279784        1.044609                   1   \n",
       "3     1190         2.0    0.167251        0.930651                   1   \n",
       "4     1125         2.5    0.109995        1.132096                   1   \n",
       "...    ...         ...         ...             ...                 ...   \n",
       "2745  2412         3.0    0.134107        0.625462                   1   \n",
       "2746  1287         2.5    1.761997        2.418640                   0   \n",
       "2747  1655         3.0    0.127078        0.835416                   1   \n",
       "2748  1880         3.0    0.258999        2.076649                   1   \n",
       "2749  1504         3.0    0.257277        0.576575                   1   \n",
       "\n",
       "      24Hrs Backup Electricity  Lift  Gated Community  Club House  Parking  \n",
       "0                            0     1                1           0        1  \n",
       "1                            1     1                1           0        1  \n",
       "2                            1     1                0           0        1  \n",
       "3                            1     1                1           0        1  \n",
       "4                            1     1                0           1        1  \n",
       "...                        ...   ...              ...         ...      ...  \n",
       "2745                         1     1                1           1        1  \n",
       "2746                         1     0                1           0        0  \n",
       "2747                         1     1                0           1        1  \n",
       "2748                         0     1                1           1        1  \n",
       "2749                         1     1                1           0        1  \n",
       "\n",
       "[2750 rows x 10 columns]"
      ]
     },
     "execution_count": 3,
     "metadata": {},
     "output_type": "execute_result"
    }
   ],
   "source": [
    "X = df.drop(columns = 'Price')\n",
    "X_predict = sf\n",
    "X"
   ]
  },
  {
   "cell_type": "code",
   "execution_count": 4,
   "id": "062f8274",
   "metadata": {},
   "outputs": [],
   "source": [
    "y = df['Price']"
   ]
  },
  {
   "cell_type": "code",
   "execution_count": 5,
   "id": "799d10d3",
   "metadata": {},
   "outputs": [],
   "source": [
    "from sklearn.model_selection import train_test_split\n",
    "X_train, X_test, y_train, y_test = train_test_split(X, y, test_size = 0.2, random_state = 1)"
   ]
  },
  {
   "cell_type": "code",
   "execution_count": 6,
   "id": "1861eef3",
   "metadata": {},
   "outputs": [],
   "source": [
    "from sklearn.preprocessing import StandardScaler\n",
    "scaler = StandardScaler()\n",
    "X_train_scaler = scaler.fit_transform(X_train)\n",
    "X_test_scaler = scaler.transform(X_test)\n",
    "X_predict_scaler = scaler.transform(X_predict)"
   ]
  },
  {
   "cell_type": "code",
   "execution_count": 7,
   "id": "30fb3020",
   "metadata": {},
   "outputs": [],
   "source": [
    "from sklearn.linear_model import LinearRegression\n",
    "lin = LinearRegression()"
   ]
  },
  {
   "cell_type": "code",
   "execution_count": 8,
   "id": "1f5a2715",
   "metadata": {},
   "outputs": [
    {
     "data": {
      "text/html": [
       "<style>#sk-container-id-1 {color: black;}#sk-container-id-1 pre{padding: 0;}#sk-container-id-1 div.sk-toggleable {background-color: white;}#sk-container-id-1 label.sk-toggleable__label {cursor: pointer;display: block;width: 100%;margin-bottom: 0;padding: 0.3em;box-sizing: border-box;text-align: center;}#sk-container-id-1 label.sk-toggleable__label-arrow:before {content: \"▸\";float: left;margin-right: 0.25em;color: #696969;}#sk-container-id-1 label.sk-toggleable__label-arrow:hover:before {color: black;}#sk-container-id-1 div.sk-estimator:hover label.sk-toggleable__label-arrow:before {color: black;}#sk-container-id-1 div.sk-toggleable__content {max-height: 0;max-width: 0;overflow: hidden;text-align: left;background-color: #f0f8ff;}#sk-container-id-1 div.sk-toggleable__content pre {margin: 0.2em;color: black;border-radius: 0.25em;background-color: #f0f8ff;}#sk-container-id-1 input.sk-toggleable__control:checked~div.sk-toggleable__content {max-height: 200px;max-width: 100%;overflow: auto;}#sk-container-id-1 input.sk-toggleable__control:checked~label.sk-toggleable__label-arrow:before {content: \"▾\";}#sk-container-id-1 div.sk-estimator input.sk-toggleable__control:checked~label.sk-toggleable__label {background-color: #d4ebff;}#sk-container-id-1 div.sk-label input.sk-toggleable__control:checked~label.sk-toggleable__label {background-color: #d4ebff;}#sk-container-id-1 input.sk-hidden--visually {border: 0;clip: rect(1px 1px 1px 1px);clip: rect(1px, 1px, 1px, 1px);height: 1px;margin: -1px;overflow: hidden;padding: 0;position: absolute;width: 1px;}#sk-container-id-1 div.sk-estimator {font-family: monospace;background-color: #f0f8ff;border: 1px dotted black;border-radius: 0.25em;box-sizing: border-box;margin-bottom: 0.5em;}#sk-container-id-1 div.sk-estimator:hover {background-color: #d4ebff;}#sk-container-id-1 div.sk-parallel-item::after {content: \"\";width: 100%;border-bottom: 1px solid gray;flex-grow: 1;}#sk-container-id-1 div.sk-label:hover label.sk-toggleable__label {background-color: #d4ebff;}#sk-container-id-1 div.sk-serial::before {content: \"\";position: absolute;border-left: 1px solid gray;box-sizing: border-box;top: 0;bottom: 0;left: 50%;z-index: 0;}#sk-container-id-1 div.sk-serial {display: flex;flex-direction: column;align-items: center;background-color: white;padding-right: 0.2em;padding-left: 0.2em;position: relative;}#sk-container-id-1 div.sk-item {position: relative;z-index: 1;}#sk-container-id-1 div.sk-parallel {display: flex;align-items: stretch;justify-content: center;background-color: white;position: relative;}#sk-container-id-1 div.sk-item::before, #sk-container-id-1 div.sk-parallel-item::before {content: \"\";position: absolute;border-left: 1px solid gray;box-sizing: border-box;top: 0;bottom: 0;left: 50%;z-index: -1;}#sk-container-id-1 div.sk-parallel-item {display: flex;flex-direction: column;z-index: 1;position: relative;background-color: white;}#sk-container-id-1 div.sk-parallel-item:first-child::after {align-self: flex-end;width: 50%;}#sk-container-id-1 div.sk-parallel-item:last-child::after {align-self: flex-start;width: 50%;}#sk-container-id-1 div.sk-parallel-item:only-child::after {width: 0;}#sk-container-id-1 div.sk-dashed-wrapped {border: 1px dashed gray;margin: 0 0.4em 0.5em 0.4em;box-sizing: border-box;padding-bottom: 0.4em;background-color: white;}#sk-container-id-1 div.sk-label label {font-family: monospace;font-weight: bold;display: inline-block;line-height: 1.2em;}#sk-container-id-1 div.sk-label-container {text-align: center;}#sk-container-id-1 div.sk-container {/* jupyter's `normalize.less` sets `[hidden] { display: none; }` but bootstrap.min.css set `[hidden] { display: none !important; }` so we also need the `!important` here to be able to override the default hidden behavior on the sphinx rendered scikit-learn.org. See: https://github.com/scikit-learn/scikit-learn/issues/21755 */display: inline-block !important;position: relative;}#sk-container-id-1 div.sk-text-repr-fallback {display: none;}</style><div id=\"sk-container-id-1\" class=\"sk-top-container\"><div class=\"sk-text-repr-fallback\"><pre>LinearRegression()</pre><b>In a Jupyter environment, please rerun this cell to show the HTML representation or trust the notebook. <br />On GitHub, the HTML representation is unable to render, please try loading this page with nbviewer.org.</b></div><div class=\"sk-container\" hidden><div class=\"sk-item\"><div class=\"sk-estimator sk-toggleable\"><input class=\"sk-toggleable__control sk-hidden--visually\" id=\"sk-estimator-id-1\" type=\"checkbox\" checked><label for=\"sk-estimator-id-1\" class=\"sk-toggleable__label sk-toggleable__label-arrow\">LinearRegression</label><div class=\"sk-toggleable__content\"><pre>LinearRegression()</pre></div></div></div></div></div>"
      ],
      "text/plain": [
       "LinearRegression()"
      ]
     },
     "execution_count": 8,
     "metadata": {},
     "output_type": "execute_result"
    }
   ],
   "source": [
    "from sklearn.preprocessing import PolynomialFeatures\n",
    "poly = PolynomialFeatures(degree=4)\n",
    "X_poly_train = poly.fit_transform(X_train_scaler)\n",
    "X_test_poly = poly.transform(X_test_scaler)\n",
    "X_predict_poly = poly.transform(X_predict_scaler)\n",
    "poly.fit(X_poly_train, y_train)\n",
    "lin.fit(X_poly_train, y_train)"
   ]
  },
  {
   "cell_type": "code",
   "execution_count": 9,
   "id": "a438335d",
   "metadata": {},
   "outputs": [],
   "source": [
    "c = lin.intercept_"
   ]
  },
  {
   "cell_type": "code",
   "execution_count": 10,
   "id": "c42dc829",
   "metadata": {},
   "outputs": [
    {
     "data": {
      "text/plain": [
       "304.9046096597064"
      ]
     },
     "execution_count": 10,
     "metadata": {},
     "output_type": "execute_result"
    }
   ],
   "source": [
    "c"
   ]
  },
  {
   "cell_type": "code",
   "execution_count": 11,
   "id": "e644b9af",
   "metadata": {},
   "outputs": [
    {
     "data": {
      "text/plain": [
       "array([ 2.60744148e-08,  7.21001356e+00,  3.24982243e+01, ...,\n",
       "       -2.39910517e+01,  4.86478119e+01, -2.16971477e+01])"
      ]
     },
     "execution_count": 11,
     "metadata": {},
     "output_type": "execute_result"
    }
   ],
   "source": [
    "m = lin.coef_\n",
    "m"
   ]
  },
  {
   "cell_type": "code",
   "execution_count": 12,
   "id": "96eae1e7",
   "metadata": {},
   "outputs": [],
   "source": [
    "y_pred = lin.predict(X_test_poly)\n",
    "predicted_price = lin.predict(X_predict_poly)"
   ]
  },
  {
   "cell_type": "code",
   "execution_count": 13,
   "id": "5db79700",
   "metadata": {},
   "outputs": [
    {
     "data": {
      "text/plain": [
       "127.0122202415496"
      ]
     },
     "execution_count": 13,
     "metadata": {},
     "output_type": "execute_result"
    }
   ],
   "source": [
    "from sklearn.metrics import mean_absolute_error\n",
    "mean_absolute_error(y_test, y_pred)"
   ]
  },
  {
   "cell_type": "code",
   "execution_count": 14,
   "id": "012fe8a1",
   "metadata": {},
   "outputs": [
    {
     "data": {
      "text/plain": [
       "15.344081370933933"
      ]
     },
     "execution_count": 14,
     "metadata": {},
     "output_type": "execute_result"
    }
   ],
   "source": [
    "y_pred_train = lin.predict(X_poly_train)\n",
    "mean_absolute_error(y_train, y_pred_train)"
   ]
  },
  {
   "cell_type": "code",
   "execution_count": 15,
   "id": "1e70247d",
   "metadata": {},
   "outputs": [
    {
     "data": {
      "image/png": "[encoded data removed]",
      "text/plain": [
       "<Figure size 640x480 with 1 Axes>"
      ]
     },
     "metadata": {},
     "output_type": "display_data"
    }
   ],
   "source": [
    "import matplotlib.pyplot as plt\n",
    "plt.scatter(y_train, y_pred_train)\n",
    "plt.xlabel(\"Actual Price\")\n",
    "plt.ylabel(\"Predicted Prices\")\n",
    "plt.show()"
   ]
  },
  {
   "cell_type": "code",
   "execution_count": 16,
   "id": "a3c2e61a",
   "metadata": {},
   "outputs": [],
   "source": [
    "from sklearn.metrics import r2_score"
   ]
  },
  {
   "cell_type": "code",
   "execution_count": 17,
   "id": "a0ffa077",
   "metadata": {},
   "outputs": [
    {
     "data": {
      "text/plain": [
       "0.589244593688183"
      ]
     },
     "execution_count": 17,
     "metadata": {},
     "output_type": "execute_result"
    }
   ],
   "source": [
    "r2_score(y_train, y_pred_train)"
   ]
  },
  {
   "cell_type": "code",
   "execution_count": 19,
   "id": "7f57440e",
   "metadata": {},
   "outputs": [
    {
     "data": {
      "text/plain": [
       "array([ 0.2791015 ,  0.77235287, -0.17352936,  0.05056413, -1.19846709,\n",
       "        0.77911002, -1.32547811,  0.7813717 , -0.68313005, -1.36005181])"
      ]
     },
     "execution_count": 19,
     "metadata": {},
     "output_type": "execute_result"
    }
   ],
   "source": [
    "X_test_scaler[0]"
   ]
  },
  {
   "cell_type": "code",
   "execution_count": 20,
   "id": "7cd9ec3e",
   "metadata": {},
   "outputs": [
    {
     "data": {
      "text/plain": [
       "array([56.78894852, 84.3359523 , 41.95351912, ..., -5.91672024,\n",
       "       67.96165082, 81.02082136])"
      ]
     },
     "execution_count": 20,
     "metadata": {},
     "output_type": "execute_result"
    }
   ],
   "source": [
    "y_pred_train"
   ]
  },
  {
   "cell_type": "code",
   "execution_count": 21,
   "id": "47db30d1",
   "metadata": {},
   "outputs": [
    {
     "name": "stdout",
     "output_type": "stream",
     "text": [
      "The regression equation is: y = 304.90 + 7.21x^1 + 32.50x^2 + 141.13x^3 + -22.98x^4 + 30.73x^5 + -8.36x^6 + -34.92x^7 + 12.25x^8 + 3.83x^9 + 14.53x^10 + -21.84x^11 + 31.76x^12 + 41.03x^13 + -14.41x^14 + 4.90x^15 + 12.18x^16 + 50.99x^17 + 11.34x^18 + 2.52x^19 + -34.72x^20 + 5.78x^21 + 1.63x^22 + 9.65x^23 + -26.81x^24 + -18.64x^25 + -39.63x^26 + -8.03x^27 + -9.59x^28 + -38.40x^29 + -42.34x^30 + 191.89x^31 + 64.81x^32 + -51.94x^33 + -338.76x^34 + 43.04x^35 + -31.39x^36 + 92.07x^37 + 9.18x^38 + 90.34x^39 + 29.39x^40 + -31.16x^41 + 2.62x^42 + 45.36x^43 + 80.20x^44 + -11.19x^45 + -6.00x^46 + -36.77x^47 + 4.99x^48 + 0.72x^49 + -11.28x^50 + 4.22x^51 + 15.18x^52 + -6.88x^53 + -10.02x^54 + -19.76x^55 + 19.94x^56 + -35.22x^57 + -29.81x^58 + -63.65x^59 + -6.10x^60 + 2.61x^61 + 10.41x^62 + 2.99x^63 + 36.71x^64 + -9.08x^65 + 25.62x^66 + 12.91x^67 + 9.39x^68 + -102.49x^69 + -19.79x^70 + -47.95x^71 + 112.59x^72 + -20.38x^73 + 12.90x^74 + -12.27x^75 + -0.48x^76 + 52.51x^77 + 65.18x^78 + 76.01x^79 + 57.02x^80 + -138.14x^81 + 7.90x^82 + -28.41x^83 + 12.58x^84 + 6.87x^85 + -54.60x^86 + -5.13x^87 + -31.24x^88 + -15.41x^89 + 5.24x^90 + -13.70x^91 + -125.84x^92 + 90.51x^93 + 23.20x^94 + 57.94x^95 + -1083.42x^96 + -10.19x^97 + 44.21x^98 + 926.58x^99 + 5.43x^100 + 13.54x^101 + 214.64x^102 + 22.93x^103 + -9.25x^104 + -264.08x^105 + 1.07x^106 + 32.28x^107 + 3.50x^108 + -18.93x^109 + -105.10x^110 + -21.90x^111 + -26.68x^112 + -114.42x^113 + 28.77x^114 + 1.56x^115 + -6.59x^116 + 1.48x^117 + 9.18x^118 + 131.00x^119 + 28.90x^120 + -4.18x^121 + -13.18x^122 + -5.21x^123 + 155.72x^124 + -2.55x^125 + -120.66x^126 + 0.12x^127 + 6.55x^128 + -18.31x^129 + -15.73x^130 + 8.11x^131 + 565.86x^132 + 35.82x^133 + 446.67x^134 + -7.56x^135 + -4.22x^136 + -845.06x^137 + -49.86x^138 + -258.27x^139 + 29.91x^140 + 236.36x^141 + 8.77x^142 + -25.51x^143 + -38.46x^144 + 42.26x^145 + -28.06x^146 + 231.94x^147 + -13.26x^148 + 70.24x^149 + -278.91x^150 + 41.90x^151 + -6.80x^152 + -20.28x^153 + 18.44x^154 + 84.69x^155 + 55.13x^156 + -90.51x^157 + 195.36x^158 + -87.69x^159 + 36.50x^160 + 5.81x^161 + 99.30x^162 + 25.01x^163 + -228.16x^164 + 56.49x^165 + -31.29x^166 + -19.02x^167 + 20.29x^168 + -2.87x^169 + -282.26x^170 + -34.47x^171 + 14.76x^172 + 354.95x^173 + -31.84x^174 + 26.39x^175 + 72.31x^176 + -330.16x^177 + 103.19x^178 + -86.28x^179 + -157.05x^180 + 117.53x^181 + -72.66x^182 + -604.66x^183 + 9.67x^184 + -34.85x^185 + -292.03x^186 + 167.33x^187 + 227.75x^188 + -9.93x^189 + 21.24x^190 + -40.73x^191 + 334.57x^192 + -327.21x^193 + 60.80x^194 + -229.75x^195 + 119.68x^196 + -28.65x^197 + 222.60x^198 + 116.62x^199 + 24.00x^200 + 83.60x^201 + -42.13x^202 + -49.11x^203 + -6.89x^204 + 582.07x^205 + 45.14x^206 + -9.01x^207 + -540.23x^208 + -55.87x^209 + 22.49x^210 + -234.02x^211 + 73.53x^212 + -46.18x^213 + 415.28x^214 + -37.81x^215 + -157.69x^216 + -15.78x^217 + -17.98x^218 + 103.29x^219 + -5.19x^220 + -62.86x^221 + -254.37x^222 + -191.01x^223 + -24.29x^224 + 15.48x^225 + 53.66x^226 + 12.43x^227 + 161.95x^228 + -73.09x^229 + 34.80x^230 + -6.17x^231 + -21.53x^232 + 10.43x^233 + 3.57x^234 + 18.64x^235 + 33.75x^236 + 77.10x^237 + 19.28x^238 + -60.55x^239 + -59.60x^240 + 51.73x^241 + -1.10x^242 + -254.86x^243 + -335.16x^244 + 28.24x^245 + 1.80x^246 + -27.32x^247 + 31.29x^248 + 222.53x^249 + 37.78x^250 + -10.48x^251 + -42.58x^252 + 15.72x^253 + 8.89x^254 + 24.50x^255 + -17.03x^256 + 12.31x^257 + 43.34x^258 + 57.68x^259 + -4.93x^260 + 4.73x^261 + -19.50x^262 + -16.18x^263 + 40.29x^264 + 3.99x^265 + -46.31x^266 + 32.36x^267 + 20.85x^268 + 50.88x^269 + -17.37x^270 + 205.20x^271 + -112.89x^272 + -58.19x^273 + 28.61x^274 + 4.85x^275 + 15.29x^276 + 2.54x^277 + 9.34x^278 + 14.28x^279 + -205.96x^280 + 5.74x^281 + 6.17x^282 + 43.19x^283 + -19.10x^284 + 20.20x^285 + -0.76x^286 + -6.50x^287 + -2.75x^288 + 3.28x^289 + -13.15x^290 + -7.39x^291 + 20.72x^292 + 6.55x^293 + -10.23x^294 + 6.27x^295 + 29.93x^296 + -5.61x^297 + 15.83x^298 + 30.30x^299 + -38.26x^300 + -72.04x^301 + 52.12x^302 + -8.36x^303 + 43.03x^304 + -5.34x^305 + -66.89x^306 + 3.84x^307 + 2.85x^308 + 168.51x^309 + -7.57x^310 + 5.98x^311 + -155.46x^312 + -38.85x^313 + -48.90x^314 + -25.12x^315 + -70.19x^316 + 44.88x^317 + -12.46x^318 + 9.29x^319 + -14.63x^320 + 18.21x^321 + -285.01x^322 + 22.55x^323 + 19.83x^324 + 181.15x^325 + 2.35x^326 + -53.30x^327 + 1.00x^328 + 3.03x^329 + 16.60x^330 + -86.13x^331 + 28.57x^332 + 12.94x^333 + 225.52x^334 + -11.68x^335 + -0.95x^336 + -104.18x^337 + -11.76x^338 + -38.26x^339 + -14.17x^340 + -32.36x^341 + -4.10x^342 + -64.64x^343 + -54.99x^344 + -14.63x^345 + -1.07x^346 + -33.39x^347 + -0.91x^348 + 20.38x^349 + -12.61x^350 + 0.48x^351 + 22.48x^352 + -29.95x^353 + -256.13x^354 + -0.62x^355 + 9.09x^356 + 238.94x^357 + 46.48x^358 + 113.12x^359 + 109.68x^360 + 129.82x^361 + -97.44x^362 + -9.79x^363 + -131.47x^364 + 4.08x^365 + -74.29x^366 + 43.22x^367 + 11.82x^368 + -31.26x^369 + 106.87x^370 + 3.00x^371 + 226.05x^372 + -5.24x^373 + -7.43x^374 + -157.46x^375 + 110.64x^376 + 0.72x^377 + 74.88x^378 + -256.33x^379 + 27.82x^380 + 12.27x^381 + 66.48x^382 + 9.58x^383 + -66.33x^384 + 23.90x^385 + 1.75x^386 + 13.27x^387 + 12.06x^388 + 1.30x^389 + -635.06x^390 + -11.53x^391 + 4.87x^392 + 623.43x^393 + 46.08x^394 + -22.83x^395 + 2.09x^396 + -2106.27x^397 + 60.69x^398 + 30.01x^399 + 1994.60x^400 + 42.90x^401 + -34.63x^402 + 637.07x^403 + 57.44x^404 + -17.43x^405 + -573.22x^406 + 56.79x^407 + 189.22x^408 + 46.82x^409 + 9.82x^410 + -132.25x^411 + 49.84x^412 + 749.73x^413 + -266.70x^414 + -435.14x^415 + 38.42x^416 + -5.67x^417 + -846.58x^418 + 30.34x^419 + 277.96x^420 + 119.65x^421 + -19.92x^422 + 56.43x^423 + 2.08x^424 + 19.65x^425 + -17.71x^426 + -13.75x^427 + -109.73x^428 + -22.86x^429 + 3.46x^430 + -100.06x^431 + 6.80x^432 + 26.00x^433 + -81.66x^434 + -43.64x^435 + 151.11x^436 + -22.55x^437 + 4.99x^438 + -266.39x^439 + 604.26x^440 + -851.99x^441 + 179.02x^442 + 203.66x^443 + -9.34x^444 + -34.90x^445 + 1002.96x^446 + 20.10x^447 + -148.37x^448 + -593.32x^449 + 2.92x^450 + 7.25x^451 + -27.16x^452 + 2.99x^453 + 5.89x^454 + 61.42x^455 + -1.94x^456 + -305.62x^457 + 47.48x^458 + 102.62x^459 + 397.09x^460 + -117.67x^461 + 68.89x^462 + 178.40x^463 + -151.21x^464 + -6.53x^465 + -14.85x^466 + -113.07x^467 + -2.33x^468 + -223.83x^469 + 169.89x^470 + 11.64x^471 + 34.70x^472 + 9.57x^473 + 12.07x^474 + 18.29x^475 + -6.25x^476 + 327.54x^477 + 79.01x^478 + -184.38x^479 + 10.43x^480 + 14.91x^481 + -353.32x^482 + -2.60x^483 + -167.16x^484 + 77.85x^485 + 63.49x^486 + 26.57x^487 + 67.86x^488 + -51.15x^489 + 64.28x^490 + 30.87x^491 + -74.16x^492 + -38.35x^493 + 55.44x^494 + 33.01x^495 + 10.56x^496 + 5.80x^497 + -35.46x^498 + 6.20x^499 + -42.10x^500 + 10.41x^501 + 9.69x^502 + 67.55x^503 + -79.33x^504 + -52.78x^505 + 7.05x^506 + 15.56x^507 + 20.32x^508 + 16.32x^509 + 8.86x^510 + 42.85x^511 + 7.76x^512 + 6.94x^513 + -39.27x^514 + 0.65x^515 + -12.16x^516 + -9.49x^517 + 14.11x^518 + -295.62x^519 + -0.03x^520 + -8.23x^521 + 288.95x^522 + -23.82x^523 + -18.57x^524 + -14.24x^525 + 11.26x^526 + -3.63x^527 + 18.18x^528 + -6.73x^529 + -50.91x^530 + 78.50x^531 + -233.35x^532 + -15.77x^533 + 15.35x^534 + -125.62x^535 + 7.06x^536 + -11.98x^537 + -10.84x^538 + 7.45x^539 + -60.87x^540 + 74.67x^541 + -37.65x^542 + -48.19x^543 + 234.82x^544 + 5.72x^545 + -4.96x^546 + 46.46x^547 + 10.89x^548 + 39.52x^549 + 17.22x^550 + 0.13x^551 + -8.90x^552 + -0.14x^553 + -4.20x^554 + 367.48x^555 + -1.11x^556 + 3.70x^557 + -369.92x^558 + -43.26x^559 + 30.07x^560 + 12.48x^561 + 1064.19x^562 + -33.67x^563 + -22.48x^564 + -1033.66x^565 + -204.38x^566 + -193.77x^567 + -260.42x^568 + -15.33x^569 + 10.16x^570 + -372.38x^571 + -16.44x^572 + -721.26x^573 + 4.47x^574 + 7.55x^575 + 891.72x^576 + -253.43x^577 + 196.56x^578 + 218.92x^579 + 485.77x^580 + 5.40x^581 + -3.39x^582 + -195.46x^583 + -1.67x^584 + -223.97x^585 + 529.61x^586 + 14.64x^587 + -22.53x^588 + 3.60x^589 + -84.37x^590 + 8.39x^591 + 17.44x^592 + 117.89x^593 + 103.68x^594 + 50.69x^595 + 126.15x^596 + -0.13x^597 + -12.68x^598 + 296.62x^599 + -5.44x^600 + 112.98x^601 + -68.94x^602 + -13.43x^603 + -104.06x^604 + -125.32x^605 + 113.14x^606 + 142.70x^607 + -378.02x^608 + 5.28x^609 + 13.16x^610 + -87.97x^611 + -10.27x^612 + -152.63x^613 + 33.68x^614 + -42.20x^615 + -8.43x^616 + -124.07x^617 + -3.20x^618 + -35.17x^619 + 63.14x^620 + -12.66x^621 + -593.79x^622 + -6.59x^623 + -180.52x^624 + 401.79x^625 + -159.26x^626 + 291.92x^627 + -55.40x^628 + 522.26x^629 + -20.21x^630 + 6.32x^631 + -278.14x^632 + 28.03x^633 + 75.79x^634 + 147.44x^635 + -39.78x^636 + -36.20x^637 + 2.20x^638 + -18.90x^639 + -81.11x^640 + -14.76x^641 + -41.70x^642 + -334.23x^643 + 391.13x^644 + -8.53x^645 + -0.45x^646 + 55.43x^647 + -4.24x^648 + 506.69x^649 + -71.55x^650 + -71.11x^651 + 43.66x^652 + -121.15x^653 + 11.68x^654 + 5.48x^655 + -24.63x^656 + 79.89x^657 + 112.89x^658 + -42.13x^659 + 15.16x^660 + -26.22x^661 + -12.49x^662 + -87.89x^663 + -3.49x^664 + 17.72x^665 + -70.07x^666 + 9.93x^667 + -216.53x^668 + 132.96x^669 + -73.69x^670 + 0.65x^671 + -20.17x^672 + -3.40x^673 + 0.41x^674 + 1060.00x^675 + -0.65x^676 + 1.37x^677 + -1051.27x^678 + -41.60x^679 + 27.37x^680 + 39.75x^681 + 2493.82x^682 + -23.06x^683 + -9.41x^684 + -2532.64x^685 + -49.73x^686 + -37.99x^687 + 467.84x^688 + 2.41x^689 + -0.64x^690 + -463.78x^691 + -40.90x^692 + -191.44x^693 + 32.86x^694 + 0.63x^695 + 201.30x^696 + 118.84x^697 + -462.63x^698 + 842.58x^699 + 343.84x^700 + -25.17x^701 + 5.55x^702 + 455.36x^703 + -30.82x^704 + -862.11x^705 + -264.11x^706 + -2.67x^707 + 53.12x^708 + 35.02x^709 + 1969.45x^710 + -12.72x^711 + 89.69x^712 + -1959.07x^713 + 182.28x^714 + -16.93x^715 + -393.33x^716 + 1.16x^717 + 1.95x^718 + 424.21x^719 + 155.41x^720 + -197.82x^721 + -17.69x^722 + -12.02x^723 + 232.69x^724 + 380.42x^725 + 75.00x^726 + -34.23x^727 + -1514.40x^728 + 140.46x^729 + -18.34x^730 + -90.90x^731 + 124.53x^732 + 92.97x^733 + 290.01x^734 + 22.02x^735 + -25.48x^736 + -118.62x^737 + 39.52x^738 + -18.70x^739 + 198.39x^740 + 101.46x^741 + 83.94x^742 + 76.26x^743 + -9.65x^744 + 135.54x^745 + 410.09x^746 + 229.67x^747 + -177.37x^748 + 60.02x^749 + 59.99x^750 + 4.14x^751 + -237.47x^752 + 37.60x^753 + 182.63x^754 + 247.27x^755 + -136.34x^756 + -453.64x^757 + 48.05x^758 + -42.10x^759 + 112.62x^760 + -181.99x^761 + -89.79x^762 + 226.59x^763 + 399.92x^764 + -46.99x^765 + -20.09x^766 + -5.25x^767 + -35.36x^768 + -221.67x^769 + -26.49x^770 + -529.81x^771 + 229.89x^772 + -66.11x^773 + 223.27x^774 + -175.66x^775 + 149.50x^776 + -152.09x^777 + -291.29x^778 + 28.60x^779 + -195.21x^780 + -16.61x^781 + -17.11x^782 + -18.88x^783 + 20.67x^784 + -132.40x^785 + -96.03x^786 + 59.66x^787 + 110.81x^788 + -46.38x^789 + 39.84x^790 + 7.04x^791 + 6.34x^792 + 0.57x^793 + -57.59x^794 + 3.05x^795 + 1.04x^796 + 63.86x^797 + 27.06x^798 + 95.36x^799 + -62.61x^800 + -1.88x^801 + 7.03x^802 + 55.59x^803 + 12.65x^804 + 30.87x^805 + -59.74x^806 + 13.65x^807 + -71.68x^808 + -323.21x^809 + -343.92x^810 + 168.15x^811 + -4.52x^812 + -13.33x^813 + -15.50x^814 + 306.32x^815 + 2.14x^816 + -171.92x^817 + 346.70x^818 + 110.68x^819 + 21.20x^820 + 54.04x^821 + -24.15x^822 + 62.18x^823 + -70.99x^824 + 78.99x^825 + -241.90x^826 + -64.41x^827 + -2.42x^828 + 157.40x^829 + 223.97x^830 + 27.65x^831 + 144.52x^832 + -997.97x^833 + 53.69x^834 + 2.47x^835 + -32.21x^836 + 54.28x^837 + -113.68x^838 + -169.13x^839 + 48.46x^840 + 48.38x^841 + 10.58x^842 + 54.43x^843 + 28.10x^844 + 119.43x^845 + 655.10x^846 + 68.58x^847 + -171.53x^848 + 37.25x^849 + -0.34x^850 + -545.11x^851 + 15.35x^852 + -36.40x^853 + -35.15x^854 + -28.19x^855 + 38.51x^856 + 190.62x^857 + 189.28x^858 + 0.17x^859 + 213.58x^860 + -52.89x^861 + -229.75x^862 + -432.45x^863 + 88.18x^864 + 14.72x^865 + 37.65x^866 + 53.46x^867 + 14.70x^868 + -258.60x^869 + -30.91x^870 + 55.07x^871 + 206.64x^872 + -55.82x^873 + 125.87x^874 + -23.86x^875 + -3.76x^876 + -28.93x^877 + 1.19x^878 + -0.58x^879 + -18.07x^880 + -8.07x^881 + -12.89x^882 + -13.90x^883 + 12.03x^884 + 1.93x^885 + 1.11x^886 + -34.82x^887 + 62.98x^888 + 58.37x^889 + -16.39x^890 + 1.95x^891 + 20.36x^892 + -8.40x^893 + -44.30x^894 + -22.83x^895 + -23.03x^896 + -75.66x^897 + -4.74x^898 + 31.26x^899 + 18.78x^900 + -50.03x^901 + 40.41x^902 + 697.58x^903 + 189.34x^904 + -15.61x^905 + 13.52x^906 + -28.06x^907 + -53.27x^908 + -529.66x^909 + 31.23x^910 + -66.31x^911 + 5.61x^912 + 146.26x^913 + 180.10x^914 + -36.23x^915 + -357.22x^916 + -11.36x^917 + -235.75x^918 + -59.81x^919 + 172.63x^920 + -9.09x^921 + -0.18x^922 + 2.33x^923 + 6.39x^924 + 342.82x^925 + 22.05x^926 + 25.15x^927 + 162.45x^928 + -138.31x^929 + -34.88x^930 + 9.50x^931 + 36.66x^932 + -14.81x^933 + -14.50x^934 + -32.12x^935 + 28.53x^936 + -41.43x^937 + -51.67x^938 + -92.75x^939 + -3.62x^940 + 0.22x^941 + 20.25x^942 + 11.15x^943 + 16.39x^944 + -11.09x^945 + 24.90x^946 + -13.91x^947 + -34.76x^948 + -52.70x^949 + 9.05x^950 + -514.99x^951 + 42.89x^952 + 49.02x^953 + -3.05x^954 + -20.86x^955 + -4.42x^956 + -12.37x^957 + -10.04x^958 + -3.19x^959 + 499.02x^960 + 5.30x^961 + -22.64x^962 + 11.69x^963 + -35.19x^964 + -22.26x^965 + 46.39x^966 + -53.70x^967 + -41.72x^968 + -92.71x^969 + 3.81x^970 + -114.57x^971 + 74.88x^972 + 36.22x^973 + 20.37x^974 + -11.84x^975 + -26.56x^976 + -132.08x^977 + -7.38x^978 + 124.98x^979 + -47.57x^980 + 35.31x^981 + -75.24x^982 + -41.32x^983 + -47.68x^984 + -66.68x^985 + -13.72x^986 + 1.34x^987 + 5.76x^988 + -4.12x^989 + 139.37x^990 + -11.94x^991 + 13.75x^992 + -150.38x^993 + 131.28x^994 + 6.83x^995 + 7.81x^996 + 70.43x^997 + -23.99x^998 + 48.65x^999 + -21.70x^1000\n"
     ]
    }
   ],
   "source": [
    "coefficients = lin.coef_\n",
    "intercept = lin.intercept_\n",
    "equation = \"y = {:.2f}\".format(intercept)\n",
    "for i in range(1, len(coefficients)):\n",
    "    equation += \" + {:.2f}x^{}\".format(coefficients[i], i)\n",
    "\n",
    "print(\"The regression equation is:\", equation)"
   ]
  },
  {
   "cell_type": "code",
   "execution_count": 22,
   "id": "40d434ee",
   "metadata": {},
   "outputs": [
    {
     "data": {
      "text/plain": [
       "array([141.80229385])"
      ]
     },
     "execution_count": 22,
     "metadata": {},
     "output_type": "execute_result"
    }
   ],
   "source": [
    "predicted_price"
   ]
  }
 ],
 "metadata": {
  "kernelspec": {
   "display_name": "Python 3 (ipykernel)",
   "language": "python",
   "name": "python3"
  },
  "language_info": {
   "codemirror_mode": {
    "name": "ipython",
    "version": 3
   },
   "file_extension": ".py",
   "mimetype": "text/x-python",
   "name": "python",
   "nbconvert_exporter": "python",
   "pygments_lexer": "ipython3",
   "version": "3.11.4"
  }
 },
 "nbformat": 4,
 "nbformat_minor": 5
}
